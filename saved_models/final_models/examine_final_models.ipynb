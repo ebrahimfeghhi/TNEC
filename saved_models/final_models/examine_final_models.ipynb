{
 "cells": [
  {
   "cell_type": "code",
   "execution_count": 22,
   "metadata": {},
   "outputs": [],
   "source": [
    "import numpy as np\n",
    "from sklearn.metrics import accuracy_score\n",
    "base = '/home3/ebrahim/TNECM/'\n",
    "import pandas as pd"
   ]
  },
  {
   "cell_type": "code",
   "execution_count": 24,
   "metadata": {},
   "outputs": [
    {
     "name": "stdout",
     "output_type": "stream",
     "text": [
      "   Unnamed: 0     A|B    B|A     A|C     C|A   B|C     C|B\n",
      "0           0  0.7515  0.756  0.7407  0.6084  0.97  0.7925\n"
     ]
    }
   ],
   "source": [
    "gtc_scores = pd.read_csv(base + 'prepared_data/gtc_scores.csv')\n",
    "print(gtc_scores)\n"
   ]
  },
  {
   "cell_type": "code",
   "execution_count": 11,
   "metadata": {},
   "outputs": [],
   "source": [
    "test_preds_n = []\n",
    "n = 5\n",
    "for i in range(n):\n",
    "    test_preds_n.append(np.load('test_preds_' + str(i) + '.npy').squeeze())\n",
    "\n",
    "test_preds_n = np.stack(test_preds_n)\n",
    "test_preds = np.sum(test_preds_n, axis=0)\n",
    "\n",
    "test_preds[test_preds < 3] = 0\n",
    "test_preds[test_preds > 2] = 1"
   ]
  },
  {
   "cell_type": "code",
   "execution_count": 35,
   "metadata": {},
   "outputs": [
    {
     "name": "stdout",
     "output_type": "stream",
     "text": [
      "Consistency between A and A:  0.9633\n",
      "Groud trutn consistency between A and A:  1\n"
     ]
    }
   ],
   "source": [
    "y_A_baseline = np.load(base + 'prepared_data/T_dataset_y_A.npy')\n",
    "TNE_A_inds = np.argwhere(y_A_baseline==1)\n",
    "acc_A = accuracy_score(y_A_baseline[TNE_A_inds], test_preds[TNE_A_inds])\n",
    "print(\"Consistency between A and A: \", round(acc_A, 5))\n",
    "print(\"Ground trutn consistency between A and A: \", 1)"
   ]
  },
  {
   "cell_type": "code",
   "execution_count": 39,
   "metadata": {},
   "outputs": [
    {
     "name": "stdout",
     "output_type": "stream",
     "text": [
      "Consistency between A and B:  0.85332\n",
      "Ground trutn consistency between A and B:  0.75586\n"
     ]
    }
   ],
   "source": [
    "y_B_baseline = np.load(base + 'prepared_data/T_dataset_y_B.npy')\n",
    "TNE_B_inds = np.argwhere(y_B_baseline==1)\n",
    "acc_B = accuracy_score(y_B_baseline[TNE_B_inds], test_preds[TNE_B_inds])\n",
    "print(\"Consistency between A and B: \", round(acc_B, 5))\n",
    "gtc_AB = accuracy_score(y_B_baseline[TNE_B_inds], y_A_baseline[TNE_B_inds])\n",
    "print(\"Ground trutn consistency between A and B: \", round(gtc_AB,5))"
   ]
  },
  {
   "cell_type": "code",
   "execution_count": 41,
   "metadata": {},
   "outputs": [
    {
     "name": "stdout",
     "output_type": "stream",
     "text": [
      "Consistency between A and C:  0.69596\n",
      "Ground truth consistency between A and B:  0.60827\n"
     ]
    }
   ],
   "source": [
    "y_C_baseline = np.load(base + 'prepared_data/T_dataset_y_C.npy')\n",
    "TNE_C_inds = np.argwhere(y_C_baseline==1)\n",
    "acc_C = accuracy_score(y_C_baseline[TNE_C_inds], test_preds[TNE_C_inds])\n",
    "print(\"Consistency between A and C: \", round(acc_C, 5))\n",
    "gtc_AC = accuracy_score(y_C_baseline[TNE_C_inds], y_A_baseline[TNE_C_inds])\n",
    "print(\"Ground truth consistency between A and B: \", round(gtc_AC,5))"
   ]
  },
  {
   "cell_type": "code",
   "execution_count": null,
   "metadata": {},
   "outputs": [],
   "source": []
  }
 ],
 "metadata": {
  "kernelspec": {
   "display_name": "Python 3.8.10 64-bit",
   "language": "python",
   "name": "python3"
  },
  "language_info": {
   "codemirror_mode": {
    "name": "ipython",
    "version": 3
   },
   "file_extension": ".py",
   "mimetype": "text/x-python",
   "name": "python",
   "nbconvert_exporter": "python",
   "pygments_lexer": "ipython3",
   "version": "3.8.10"
  },
  "orig_nbformat": 4,
  "vscode": {
   "interpreter": {
    "hash": "e7370f93d1d0cde622a1f8e1c04877d8463912d04d973331ad4851f04de6915a"
   }
  }
 },
 "nbformat": 4,
 "nbformat_minor": 2
}
