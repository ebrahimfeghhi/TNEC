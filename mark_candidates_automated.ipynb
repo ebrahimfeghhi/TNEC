{
 "cells": [
  {
   "cell_type": "code",
   "execution_count": 5,
   "id": "9c05539c-c678-4aab-b51e-e4e38a09319a",
   "metadata": {},
   "outputs": [],
   "source": [
    "import numpy as np\n",
    "from matplotlib import pyplot as plt\n",
    "from scipy import stats"
   ]
  },
  {
   "cell_type": "code",
   "execution_count": 6,
   "id": "5ca0d8b2",
   "metadata": {},
   "outputs": [],
   "source": [
    "X_509_w_outliers = np.load('509_data/R_509_1_data.npy')\n",
    "X_509_obi_long = np.load('509_data/R_509_1_data_obi.npy')\n",
    "y_509_w_outliers = np.load('509_data/R_509_1_labels.npy')\n",
    "y_509_obi_long = np.load('509_data/R_509_1_labels_new.npy')"
   ]
  },
  {
   "cell_type": "code",
   "execution_count": 7,
   "id": "1cd5b06d",
   "metadata": {},
   "outputs": [],
   "source": [
    "def remove_outliers(X, y, outlier_quantile=.99):\n",
    "\n",
    "    # remove windows that in the top 1% of RMS values \n",
    "    rms_thresh = np.quantile(y[:,2], outlier_quantile) \n",
    "    rms_outlier_ind = np.argwhere(y[:,2]> rms_thresh)\n",
    "    return np.delete(X, rms_outlier_ind, axis=0), np.delete(y, rms_outlier_ind, axis=0)\n",
    "\n",
    "X_509, y_509 = remove_outliers(X_509_w_outliers, y_509_w_outliers)"
   ]
  },
  {
   "cell_type": "code",
   "execution_count": 8,
   "id": "e9f34f2d",
   "metadata": {},
   "outputs": [],
   "source": [
    "y_509_obi = y_509_obi_long[2:-2] \n",
    "X_509_obi = X_509_obi_long[2:-2]\n",
    "assert y_509_obi.shape[0] == y_509.shape[0], print(\"Shape mismatch\")\n"
   ]
  },
  {
   "cell_type": "code",
   "execution_count": 9,
   "id": "db055747",
   "metadata": {},
   "outputs": [],
   "source": [
    "def mark_candidates_and_TNES_A(y):\n",
    "\n",
    "    # convert features into percentiles \n",
    "    rel_quantile = stats.rankdata(y[:, 0],\n",
    "                                        \"average\")/y.shape[0]\n",
    "    corr_quantile = stats.rankdata(y[:, 1],\n",
    "                                            \"average\")/y.shape[0]\n",
    "    rms_quantile = stats.rankdata(y[:, 2],\n",
    "                                        \"average\")/y.shape[0]\n",
    "    quantiles =  np.vstack((rel_quantile, corr_quantile, rms_quantile)).T\n",
    "\n",
    "    scores = np.average(quantiles, axis=1)\n",
    "\n",
    "    candidates = np.argwhere(scores > .65)\n",
    "    \n",
    "    candidate_quantiles = quantiles[candidates].squeeze()\n",
    "\n",
    "    A_scores = np.average(candidate_quantiles, weights=[1/5., 3/5., 1/5.], axis=1)\n",
    "\n",
    "    TNEs = np.argwhere(A_scores > .9)\n",
    "\n",
    "    return candidates, TNEs\n",
    "\n",
    "cand_509_inds, TNE_A_509_inds = mark_candidates_and_TNES_A(y_509)\n",
    "cand_509_inds_obi, TNE_A_509_inds_obi = mark_candidates_and_TNES_A(y_509_obi)"
   ]
  },
  {
   "cell_type": "code",
   "execution_count": 80,
   "id": "41000226",
   "metadata": {},
   "outputs": [],
   "source": [
    "X_cand_509_obi = X_509_obi[cand_509_inds_obi].squeeze()\n",
    "y_cand_509_obi = np.zeros(cand_509_inds_obi.shape[0])\n",
    "y_cand_509_obi[TNE_A_509_inds_obi] = 1\n",
    "\n",
    "fourth = int(X_cand_509_obi.shape[0] / 4)\n",
    "\n",
    "X_cand_509_obi_first_fourth = X_cand_509_obi[:fourth]\n",
    "y_cand_509_obi_first_fourth = y_cand_509_obi[:fourth]\n",
    "\n",
    "np.save('509_data/X_q1_A_obi.npy', X_cand_509_obi_first_fourth)\n",
    "np.save('509_data/y_q1_A_obi.npy', y_cand_509_obi_first_fourth)"
   ]
  },
  {
   "cell_type": "code",
   "execution_count": 39,
   "id": "163c9bb3",
   "metadata": {},
   "outputs": [
    {
     "name": "stdout",
     "output_type": "stream",
     "text": [
      "(14891, 1) (14442, 1)\n"
     ]
    }
   ],
   "source": [
    "print(TNE_A_509_inds.shape, TNE_A_509_inds_new.shape)"
   ]
  },
  {
   "cell_type": "code",
   "execution_count": 2,
   "id": "83d129fe",
   "metadata": {},
   "outputs": [],
   "source": [
    "R_train = np.load('prepared_data/R_dataset_X_train.npy')\n",
    "R_y_A = np.load('prepared_data/R_dataset_y_train_A.npy')"
   ]
  }
 ],
 "metadata": {
  "kernelspec": {
   "display_name": "Python 3.8.10 64-bit",
   "language": "python",
   "name": "python3"
  },
  "language_info": {
   "codemirror_mode": {
    "name": "ipython",
    "version": 3
   },
   "file_extension": ".py",
   "mimetype": "text/x-python",
   "name": "python",
   "nbconvert_exporter": "python",
   "pygments_lexer": "ipython3",
   "version": "3.8.10"
  },
  "vscode": {
   "interpreter": {
    "hash": "e7370f93d1d0cde622a1f8e1c04877d8463912d04d973331ad4851f04de6915a"
   }
  }
 },
 "nbformat": 4,
 "nbformat_minor": 5
}
